{
  "nbformat": 4,
  "nbformat_minor": 0,
  "metadata": {
    "colab": {
      "provenance": []
    },
    "kernelspec": {
      "name": "python3",
      "display_name": "Python 3"
    },
    "language_info": {
      "name": "python"
    }
  },
  "cells": [
    {
      "cell_type": "code",
      "execution_count": 2,
      "metadata": {
        "colab": {
          "base_uri": "https://localhost:8080/"
        },
        "id": "XF7tifbirc7y",
        "outputId": "9054821a-d1e1-41bf-b62d-22ee1dfbbd41"
      },
      "outputs": [
        {
          "output_type": "stream",
          "name": "stdout",
          "text": [
            "   MedInc  HouseAge  AveRooms  AveBedrms  Population  AveOccup  Latitude  \\\n",
            "0  8.3252      41.0  6.984127   1.023810       322.0  2.555556     37.88   \n",
            "1  8.3014      21.0  6.238137   0.971880      2401.0  2.109842     37.86   \n",
            "2  7.2574      52.0  8.288136   1.073446       496.0  2.802260     37.85   \n",
            "3  5.6431      52.0  5.817352   1.073059       558.0  2.547945     37.85   \n",
            "4  3.8462      52.0  6.281853   1.081081       565.0  2.181467     37.85   \n",
            "\n",
            "   Longitude  HousingPrice  \n",
            "0    -122.23         4.526  \n",
            "1    -122.22         3.585  \n",
            "2    -122.24         3.521  \n",
            "3    -122.25         3.413  \n",
            "4    -122.25         3.422  \n",
            "<class 'pandas.core.frame.DataFrame'>\n",
            "RangeIndex: 20640 entries, 0 to 20639\n",
            "Data columns (total 7 columns):\n",
            " #   Column      Non-Null Count  Dtype  \n",
            "---  ------      --------------  -----  \n",
            " 0   MedInc      20640 non-null  float64\n",
            " 1   HouseAge    20640 non-null  float64\n",
            " 2   AveRooms    20640 non-null  float64\n",
            " 3   AveBedrms   20640 non-null  float64\n",
            " 4   Population  20640 non-null  float64\n",
            " 5   Latitude    20640 non-null  float64\n",
            " 6   Longitude   20640 non-null  float64\n",
            "dtypes: float64(7)\n",
            "memory usage: 1.1 MB\n",
            "<class 'pandas.core.frame.DataFrame'>\n",
            "RangeIndex: 20640 entries, 0 to 20639\n",
            "Data columns (total 2 columns):\n",
            " #   Column        Non-Null Count  Dtype  \n",
            "---  ------        --------------  -----  \n",
            " 0   AveOccup      20640 non-null  float64\n",
            " 1   HousingPrice  20640 non-null  float64\n",
            "dtypes: float64(2)\n",
            "memory usage: 322.6 KB\n",
            "Mean Squared Error: 2.0790699717592678\n",
            "Kishor Kumar -212223240072\n",
            "\n",
            "Predictions:\n",
            " [[3.25067981 0.7273024 ]\n",
            " [2.81057745 1.76237037]\n",
            " [4.00050356 2.73979749]\n",
            " [2.66096742 2.83096465]\n",
            " [1.94582686 2.63371412]]\n"
          ]
        }
      ],
      "source": [
        "\n",
        "\n",
        "import numpy as np\n",
        "import pandas as pd\n",
        "from sklearn.datasets import fetch_california_housing\n",
        "from sklearn.linear_model import SGDRegressor\n",
        "from sklearn.multioutput import MultiOutputRegressor\n",
        "from sklearn.model_selection import train_test_split\n",
        "from sklearn.metrics import mean_squared_error\n",
        "from sklearn.preprocessing import StandardScaler\n",
        "dataset = fetch_california_housing()\n",
        "df=pd.DataFrame(dataset.data,columns=dataset.feature_names)\n",
        "df['HousingPrice']=dataset.target\n",
        "print(df.head())\n",
        "\n",
        "X = df.drop(columns=['AveOccup','HousingPrice'])\n",
        "X.info()\n",
        "\n",
        "Y = df[['AveOccup','HousingPrice']]\n",
        "Y.info()\n",
        "\n",
        "X_train, X_test, Y_train, Y_test = train_test_split(X, Y, test_size=0.2, random_state=42)\n",
        "scaler_X = StandardScaler()\n",
        "scaler_Y = StandardScaler()\n",
        "X_train = scaler_X.fit_transform(X_train)\n",
        "X_test = scaler_X.transform(X_test)\n",
        "Y_train = scaler_Y.fit_transform(Y_train)\n",
        "Y_test = scaler_Y.transform(Y_test)\n",
        "sgd = SGDRegressor(max_iter=1000, tol=1e-3)\n",
        "multi_output_sgd = MultiOutputRegressor(sgd)\n",
        "multi_output_sgd.fit(X_train, Y_train)\n",
        "\n",
        "Y_pred = multi_output_sgd.predict(X_test)\n",
        "Y_pred = scaler_Y.inverse_transform(Y_pred)\n",
        "Y_test = scaler_Y.inverse_transform(Y_test)\n",
        "mse = mean_squared_error(Y_test, Y_pred)\n",
        "print(\"Mean Squared Error:\", mse)\n",
        "print (\"Kishor Kumar -212223240072\")\n",
        "print(\"\\nPredictions:\\n\", Y_pred[:5])"
      ]
    }
  ]
}